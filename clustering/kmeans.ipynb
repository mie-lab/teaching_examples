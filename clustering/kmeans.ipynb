{
 "cells": [
  {
   "cell_type": "markdown",
   "metadata": {},
   "source": [
    "### Zuerst werden die benötigten Python Libraries importiert"
   ]
  },
  {
   "cell_type": "code",
   "execution_count": null,
   "metadata": {},
   "outputs": [],
   "source": [
    "import matplotlib.pyplot as plt\n",
    "#%matplotlib inline\n",
    "import fiona\n",
    "from shapely.geometry.geo import shape\n",
    "from sklearn.cluster import KMeans\n",
    "import numpy as np\n",
    "from scipy.spatial import Voronoi, voronoi_plot_2d\n",
    "from ipywidgets import interactive, interact\n",
    "import ipywidgets as widgets"
   ]
  },
  {
   "cell_type": "markdown",
   "metadata": {},
   "source": [
    "### Importieren der Daten mittels Fiona"
   ]
  },
  {
   "cell_type": "code",
   "execution_count": null,
   "metadata": {},
   "outputs": [],
   "source": [
    "data = []\n",
    "with fiona.open('buildings.gpkg') as src:\n",
    "    for f in src:\n",
    "        pt = shape(f['geometry'])\n",
    "        data.append((pt.x, pt.y))\n",
    "X = np.array(data)"
   ]
  },
  {
   "cell_type": "markdown",
   "metadata": {},
   "source": [
    " ### Plotten des Datensatzes"
   ]
  },
  {
   "cell_type": "code",
   "execution_count": null,
   "metadata": {
    "scrolled": false
   },
   "outputs": [],
   "source": [
    "fig = plt.figure()\n",
    "plt.scatter(X[:, 0], X[:, 1], s=1)"
   ]
  },
  {
   "cell_type": "markdown",
   "metadata": {},
   "source": [
    "### k-Means clustering für k Cluster"
   ]
  },
  {
   "cell_type": "code",
   "execution_count": null,
   "metadata": {},
   "outputs": [],
   "source": [
    "def plot_kmeans(k):    \n",
    "    kmeans = KMeans(n_clusters=k).fit(X)\n",
    "    y_pred = kmeans.predict(X)\n",
    "    \n",
    "    clusters = kmeans.cluster_centers_    \n",
    "    vor = Voronoi(clusters)\n",
    "    \n",
    "    plt.figure()\n",
    "    plt.title(\"k = {}\".format(k))\n",
    "    plt.scatter(X[:, 0], X[:, 1], s=1, c=y_pred)\n",
    "    voronoi_plot_2d(vor, ax=plt.gca(), show_vertices=False, point_size=10)\n",
    "    plt.show()"
   ]
  },
  {
   "cell_type": "code",
   "execution_count": null,
   "metadata": {},
   "outputs": [],
   "source": [
    "interact(plot_kmeans, k=widgets.IntSlider(min=3, max=50, step=1, value=3, continuous_update=False));"
   ]
  },
  {
   "cell_type": "markdown",
   "metadata": {},
   "source": [
    "### Finden des optimalen Werts für k"
   ]
  },
  {
   "cell_type": "code",
   "execution_count": null,
   "metadata": {},
   "outputs": [],
   "source": [
    "scores = []\n",
    "ks = range(1, 15, 1)\n",
    "\n",
    "for k in ks:\n",
    "    kmeans = KMeans(n_clusters=k).fit(X)\n",
    "    scores.append(kmeans.inertia_)\n",
    "\n",
    "plt.figure()\n",
    "plt.plot(ks, scores)\n",
    "plt.xlabel(\"k\")\n",
    "plt.ylabel(\"k-Means cost function\")\n",
    "plt.grid()\n",
    "plt.show()"
   ]
  },
  {
   "cell_type": "code",
   "execution_count": null,
   "metadata": {},
   "outputs": [],
   "source": []
  }
 ],
 "metadata": {
  "kernelspec": {
   "display_name": "Python 3",
   "language": "python",
   "name": "python3"
  },
  "language_info": {
   "codemirror_mode": {
    "name": "ipython",
    "version": 3
   },
   "file_extension": ".py",
   "mimetype": "text/x-python",
   "name": "python",
   "nbconvert_exporter": "python",
   "pygments_lexer": "ipython3",
   "version": "3.7.2"
  }
 },
 "nbformat": 4,
 "nbformat_minor": 2
}
