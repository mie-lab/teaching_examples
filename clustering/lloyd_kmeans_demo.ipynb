{
 "cells": [
  {
   "cell_type": "code",
   "execution_count": null,
   "metadata": {},
   "outputs": [],
   "source": [
    "%matplotlib inline\n",
    "\n",
    "from sklearn.datasets import make_blobs\n",
    "import numpy as np\n",
    "import matplotlib.pyplot as plt\n",
    "from sklearn.neighbors import KDTree\n",
    "import math"
   ]
  },
  {
   "cell_type": "markdown",
   "metadata": {},
   "source": [
    "### First, we generate some sample data."
   ]
  },
  {
   "cell_type": "code",
   "execution_count": null,
   "metadata": {},
   "outputs": [],
   "source": [
    "n_samples = 1500\n",
    "random_state = 170\n",
    "X, _ = make_blobs(n_samples=n_samples,\n",
    "                  centers=5,\n",
    "                  random_state=random_state)\n",
    "\n",
    "mins = np.amin(X, axis=0)\n",
    "maxs = np.amax(X, axis=0) \n"
   ]
  },
  {
   "cell_type": "markdown",
   "metadata": {},
   "source": [
    "### Then we set the number of clusters k."
   ]
  },
  {
   "cell_type": "code",
   "execution_count": null,
   "metadata": {},
   "outputs": [],
   "source": [
    "k = 2"
   ]
  },
  {
   "cell_type": "markdown",
   "metadata": {},
   "source": [
    "### Define Helper function for plotting"
   ]
  },
  {
   "cell_type": "code",
   "execution_count": null,
   "metadata": {},
   "outputs": [],
   "source": [
    "colors = [plt.cm.Spectral(each) for each in np.linspace(0, 1, k)]\n",
    "old_clusters = []\n",
    "\n",
    "def plot_kmeans(cluster_coords, ind):\n",
    "    plt.figure(figsize=(10, 7))\n",
    "    plt.title(\"k = {}, iteration = {}\".format(k, iteration))\n",
    "    \n",
    "    # Data points\n",
    "    plt.scatter(X[:, 0],\n",
    "                X[:, 1],\n",
    "                c=list(map(lambda x: colors[x[0]], ind)),\n",
    "                s=2)\n",
    "    \n",
    "    # Current cluster center\n",
    "    plt.scatter(cluster_coords[:, 0],\n",
    "                cluster_coords[:, 1],\n",
    "                marker=\"o\",\n",
    "                edgecolors='k',\n",
    "                facecolors=colors,\n",
    "                s=150)\n",
    "\n",
    "    # Old cluster centers\n",
    "    for old_cluster in old_clusters:\n",
    "        plt.scatter(old_cluster[:, 0],\n",
    "                    old_cluster[:, 1],\n",
    "                    marker=\"o\",\n",
    "                    edgecolors='k',\n",
    "                    facecolors=colors,\n",
    "                    alpha=0.3,\n",
    "                    s=100)\n",
    "    # Lines\n",
    "    for i in range(len(cluster_coords)):\n",
    "        xs = [old_cluster[i, 0] for old_cluster in old_clusters] + [cluster_coords[i, 0]]\n",
    "        ys = [old_cluster[i, 1] for old_cluster in old_clusters] + [cluster_coords[i, 1]]\n",
    "        plt.plot(xs, ys, color=colors[i], alpha=0.3)\n",
    "\n",
    "    plt.xlim(mins[0], maxs[0])\n",
    "    plt.ylim(mins[1], maxs[1])\n",
    "    plt.show()\n"
   ]
  },
  {
   "cell_type": "markdown",
   "metadata": {},
   "source": [
    "### Initialize random cluster centers"
   ]
  },
  {
   "cell_type": "code",
   "execution_count": null,
   "metadata": {},
   "outputs": [],
   "source": [
    "cluster_coords = np.random.uniform(low=mins,\n",
    "                                   high=maxs,\n",
    "                                   size=(k, 2))\n",
    "\n",
    "tree = KDTree(cluster_coords)\n",
    "dist, ind = tree.query(X, k=1)"
   ]
  },
  {
   "cell_type": "markdown",
   "metadata": {},
   "source": [
    "### Assign data points to nearest cluster center and update cluster centers"
   ]
  },
  {
   "cell_type": "code",
   "execution_count": null,
   "metadata": {},
   "outputs": [],
   "source": [
    "max_iterations = 30\n",
    "iteration = 0\n",
    "has_converged = False\n",
    "\n",
    "plot_kmeans(cluster_coords, ind)\n",
    "\n",
    "while not has_converged and iteration < max_iterations:\n",
    "    iteration += 1\n",
    "    old_clusters.append(np.copy(cluster_coords))\n",
    "\n",
    "    # Assign \n",
    "    tree = KDTree(cluster_coords)\n",
    "    dist, ind = tree.query(X, k=1)\n",
    "\n",
    "    # Update cluster centers\n",
    "    idx = ind.reshape(X.shape[0])\n",
    "    for i in range(k):\n",
    "        cluster_coords[i] = X[idx==i,:].mean(axis=0)\n",
    "\n",
    "    plot_kmeans(cluster_coords, ind)\n",
    "\n",
    "    norm = np.linalg.norm(cluster_coords - old_clusters[-1])\n",
    "    print(norm)\n",
    "    has_converged = math.isclose(norm, 0.0)"
   ]
  }
 ],
 "metadata": {
  "kernelspec": {
   "display_name": "Python 3",
   "language": "python",
   "name": "python3"
  },
  "language_info": {
   "codemirror_mode": {
    "name": "ipython",
    "version": 3
   },
   "file_extension": ".py",
   "mimetype": "text/x-python",
   "name": "python",
   "nbconvert_exporter": "python",
   "pygments_lexer": "ipython3",
   "version": "3.8.2"
  }
 },
 "nbformat": 4,
 "nbformat_minor": 2
}
