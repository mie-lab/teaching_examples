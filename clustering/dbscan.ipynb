{
 "cells": [
  {
   "cell_type": "markdown",
   "metadata": {},
   "source": [
    "### Import libraries\n",
    "\n",
    "* `fiona` used to import/export geodata\n",
    "* `shapely` allows usage of geometry objects \n",
    "* `matplotlib` visualization\n",
    "* `sklearn`contains clustering algorithms\n",
    "* `numpy` allows to handle data efficiently as vectors/matrices"
   ]
  },
  {
   "cell_type": "code",
   "execution_count": 1,
   "metadata": {
    "scrolled": true
   },
   "outputs": [],
   "source": [
    "%matplotlib inline\n",
    "\n",
    "import matplotlib.pyplot as plt\n",
    "import fiona\n",
    "from shapely.geometry.geo import shape\n",
    "from sklearn.cluster import DBSCAN\n",
    "from sklearn.neighbors import KDTree\n",
    "import numpy as np\n",
    "from ipywidgets import interactive, interact\n",
    "import ipywidgets as widgets"
   ]
  },
  {
   "cell_type": "markdown",
   "metadata": {},
   "source": [
    "### Import data"
   ]
  },
  {
   "cell_type": "code",
   "execution_count": 2,
   "metadata": {
    "scrolled": true
   },
   "outputs": [
    {
     "name": "stdout",
     "output_type": "stream",
     "text": [
      "[[620833.85998787 174007.15094989]\n",
      " [620868.99624114 174004.57972814]\n",
      " [621488.04172939 173610.55634672]\n",
      " ...\n",
      " [619923.282964   174145.152089  ]\n",
      " [619915.40984854 174142.34965183]\n",
      " [620032.66250959 174144.92612771]]\n"
     ]
    }
   ],
   "source": [
    "data = []\n",
    "with fiona.open('buildings.gpkg') as src:\n",
    "    for f in src:\n",
    "        pt = shape(f['geometry'])\n",
    "        data.append((pt.x, pt.y))\n",
    "X = np.array(data)\n",
    "xlim = (min(X[:, 0]), max(X[:, 0]))\n",
    "ylim = (min(X[:, 1]), max(X[:, 1]))\n",
    "print(X)"
   ]
  },
  {
   "cell_type": "markdown",
   "metadata": {},
   "source": [
    " ### Show data"
   ]
  },
  {
   "cell_type": "code",
   "execution_count": 3,
   "metadata": {
    "scrolled": true
   },
   "outputs": [
    {
     "data": {
      "text/plain": [
       "(172955.3884779056, 174856.1735493605)"
      ]
     },
     "execution_count": 3,
     "metadata": {},
     "output_type": "execute_result"
    },
    {
     "data": {
      "image/png": "[encoded data removed]",
      "text/plain": [
       "<Figure size 432x288 with 1 Axes>"
      ]
     },
     "metadata": {
      "needs_background": "light"
     },
     "output_type": "display_data"
    }
   ],
   "source": [
    "fig = plt.figure()\n",
    "plt.scatter(X[:, 0], X[:, 1], s=1)\n",
    "plt.xlim(xlim)\n",
    "plt.ylim(ylim)"
   ]
  },
  {
   "cell_type": "markdown",
   "metadata": {},
   "source": [
    "### Finden von optimalen Werten von eps und min_samples"
   ]
  },
  {
   "cell_type": "code",
   "execution_count": 4,
   "metadata": {
    "scrolled": true
   },
   "outputs": [],
   "source": [
    "def plot_nb_dists(nearest_neighbor, metric='euclidean'):\n",
    "    \"\"\" Plots distance sorted by `neared_neighbor`th\n",
    "\n",
    "    Args:\n",
    "        X (list of lists): list with data tuples\n",
    "        nearest_neighbor (int): nr of nearest neighbor to plot\n",
    "        metric (string): name of scipy metric function to use\n",
    "    \"\"\"\n",
    "    \n",
    "    tree = KDTree(X, leaf_size=2) \n",
    "\n",
    "\n",
    "    if not isinstance(nearest_neighbor, list):\n",
    "        nearest_neighbor = [nearest_neighbor]\n",
    "\n",
    "    max_nn = max(nearest_neighbor)\n",
    "\n",
    "    dist, _ = tree.query(X, k=max_nn + 1)\n",
    "\n",
    "    plt.figure()\n",
    "\n",
    "    for nnb in nearest_neighbor:\n",
    "        col = dist[:, nnb]\n",
    "        col.sort()\n",
    "        plt.plot(col, label=\"{}th nearest neighbor\".format(nnb))\n",
    " \n",
    "    #plt.ylim(0, min(250, max(dist[:, max_nn])))\n",
    "    plt.ylabel(\"Distance to k nearest neighbor\")\n",
    "    plt.xlabel(\"Points sorted according to distance of k nearest neighbor\")\n",
    "    plt.grid()\n",
    "    plt.legend()\n",
    "    plt.show()"
   ]
  },
  {
   "cell_type": "code",
   "execution_count": 5,
   "metadata": {
    "scrolled": false
   },
   "outputs": [
    {
     "data": {
      "application/vnd.jupyter.widget-view+json": {
       "model_id": "afa6e1dde9a544e5a4d4d8e71791c4f4",
       "version_major": 2,
       "version_minor": 0
      },
      "text/plain": [
       "interactive(children=(IntSlider(value=1, continuous_update=False, description='nearest_neighbor', min=1), Text…"
      ]
     },
     "metadata": {},
     "output_type": "display_data"
    }
   ],
   "source": [
    "interact(plot_nb_dists,\n",
    "         nearest_neighbor=widgets.IntSlider(min=1, max=100, step=1, value=1, continuous_update=False));"
   ]
  },
  {
   "cell_type": "markdown",
   "metadata": {},
   "source": [
    "### DBSCAN Clustering"
   ]
  },
  {
   "cell_type": "code",
   "execution_count": 9,
   "metadata": {
    "scrolled": true
   },
   "outputs": [],
   "source": [
    "def plot_dbscan(eps, min_samples, metric='euclidean'):\n",
    "   \n",
    "    db = DBSCAN(eps=eps,\n",
    "                min_samples=min_samples,\n",
    "                metric=metric).fit(X)\n",
    "    core_samples_mask = np.zeros_like(db.labels_, dtype=bool)\n",
    "    core_samples_mask[db.core_sample_indices_] = True\n",
    "    labels = db.labels_\n",
    "    \n",
    "    # Number of clusters in labels, ignoring noise if present.\n",
    "    n_clusters_ = len(set(labels)) - (1 if -1 in labels else 0)\n",
    "    n_noise_ = list(labels).count(-1)\n",
    "    \n",
    "    #print('Estimated number of clusters: %d' % n_clusters_)\n",
    "    #print('Estimated number of noise points: %d' % n_noise_)\n",
    "    \n",
    "    # #############################################################################\n",
    "    # Plot result\n",
    "    \n",
    "    # Black removed and is used for noise instead.\n",
    "    unique_labels = set(labels)\n",
    "    colors = [plt.cm.Spectral(each)\n",
    "              for each in np.linspace(0, 1, len(unique_labels))]\n",
    "\n",
    "    plt.figure()\n",
    "    for k, col in zip(unique_labels, colors):\n",
    "        if k == -1:\n",
    "            # Black used for noise.\n",
    "            col = [0, 0, 0, 1]\n",
    "    \n",
    "        class_member_mask = (labels == k)\n",
    "    \n",
    "        xy = X[class_member_mask & core_samples_mask]\n",
    "        plt.plot(xy[:, 0], xy[:, 1], 'o', markerfacecolor=tuple(col),\n",
    "                 markeredgecolor=tuple(col), markersize=2)\n",
    "    \n",
    "        xy = X[class_member_mask & ~core_samples_mask]\n",
    "        plt.plot(xy[:, 0], xy[:, 1], 'o', markerfacecolor=tuple(col),\n",
    "                 markeredgecolor=tuple(col), markersize=2)\n",
    "    \n",
    "    plt.title('Estimated number of clusters: %d' % n_clusters_)\n",
    "    plt.xlim(xlim)\n",
    "    plt.ylim(ylim)\n",
    "    plt.show()\n"
   ]
  },
  {
   "cell_type": "code",
   "execution_count": 10,
   "metadata": {
    "scrolled": false
   },
   "outputs": [
    {
     "data": {
      "application/vnd.jupyter.widget-view+json": {
       "model_id": "55032bff7c3f4b92923931bc598dce56",
       "version_major": 2,
       "version_minor": 0
      },
      "text/plain": [
       "interactive(children=(IntSlider(value=50, continuous_update=False, description='eps', max=300, min=1), IntSlid…"
      ]
     },
     "metadata": {},
     "output_type": "display_data"
    }
   ],
   "source": [
    "interact(plot_dbscan,\n",
    "         eps=widgets.IntSlider(min=1, max=300, step=1, value=50, continuous_update=False),\n",
    "         min_samples=widgets.IntSlider(min=0, max=50, step=1, value=10, continuous_update=False));\n",
    "\n"
   ]
  },
  {
   "cell_type": "code",
   "execution_count": null,
   "metadata": {},
   "outputs": [],
   "source": []
  }
 ],
 "metadata": {
  "kernelspec": {
   "display_name": "Python 3",
   "language": "python",
   "name": "python3"
  },
  "language_info": {
   "codemirror_mode": {
    "name": "ipython",
    "version": 3
   },
   "file_extension": ".py",
   "mimetype": "text/x-python",
   "name": "python",
   "nbconvert_exporter": "python",
   "pygments_lexer": "ipython3",
   "version": "3.7.3"
  }
 },
 "nbformat": 4,
 "nbformat_minor": 2
}
